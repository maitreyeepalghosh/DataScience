{
 "cells": [
  {
   "cell_type": "code",
   "execution_count": 1,
   "metadata": {
    "collapsed": false
   },
   "outputs": [
    {
     "name": "stdout",
     "output_type": "stream",
     "text": [
      "\n",
      "============================================================\n",
      "Single estimator versus bagging: bias-variance decomposition\n",
      "============================================================\n",
      "\n",
      "This example illustrates and compares the bias-variance decomposition of the\n",
      "expected mean squared error of a single estimator against a bagging ensemble.\n",
      "\n",
      "In regression, the expected mean squared error of an estimator can be\n",
      "decomposed in terms of bias, variance and noise. On average over datasets of\n",
      "the regression problem, the bias term measures the average amount by which the\n",
      "predictions of the estimator differ from the predictions of the best possible\n",
      "estimator for the problem (i.e., the Bayes model). The variance term measures\n",
      "the variability of the predictions of the estimator when fit over different\n",
      "instances LS of the problem. Finally, the noise measures the irreducible part\n",
      "of the error which is due the variability in the data.\n",
      "\n",
      "The upper left figure illustrates the predictions (in dark red) of a single\n",
      "decision tree trained over a random dataset LS (the blue dots) of a toy 1d\n",
      "regression problem. It also illustrates the predictions (in light red) of other\n",
      "single decision trees trained over other (and different) randomly drawn\n",
      "instances LS of the problem. Intuitively, the variance term here corresponds to\n",
      "the width of the beam of predictions (in light red) of the individual\n",
      "estimators. The larger the variance, the more sensitive are the predictions for\n",
      "`x` to small changes in the training set. The bias term corresponds to the\n",
      "difference between the average prediction of the estimator (in cyan) and the\n",
      "best possible model (in dark blue). On this problem, we can thus observe that\n",
      "the bias is quite low (both the cyan and the blue curves are close to each\n",
      "other) while the variance is large (the red beam is rather wide).\n",
      "\n",
      "The lower left figure plots the pointwise decomposition of the expected mean\n",
      "squared error of a single decision tree. It confirms that the bias term (in\n",
      "blue) is low while the variance is large (in green). It also illustrates the\n",
      "noise part of the error which, as expected, appears to be constant and around\n",
      "`0.01`.\n",
      "\n",
      "The right figures correspond to the same plots but using instead a bagging\n",
      "ensemble of decision trees. In both figures, we can observe that the bias term\n",
      "is larger than in the previous case. In the upper right figure, the difference\n",
      "between the average prediction (in cyan) and the best possible model is larger\n",
      "(e.g., notice the offset around `x=2`). In the lower right figure, the bias\n",
      "curve is also slightly higher than in the lower left figure. In terms of\n",
      "variance however, the beam of predictions is narrower, which suggests that the\n",
      "variance is lower. Indeed, as the lower right figure confirms, the variance\n",
      "term (in green) is lower than for single decision trees. Overall, the bias-\n",
      "variance decomposition is therefore no longer the same. The tradeoff is better\n",
      "for bagging: averaging several decision trees fit on bootstrap copies of the\n",
      "dataset slightly increases the bias term but allows for a larger reduction of\n",
      "the variance, which results in a lower overall mean squared error (compare the\n",
      "red curves int the lower figures). The script output also confirms this\n",
      "intuition. The total error of the bagging ensemble is lower than the total\n",
      "error of a single decision tree, and this difference indeed mainly stems from a\n",
      "reduced variance.\n",
      "\n",
      "For further details on bias-variance decomposition, see section 7.3 of [1]_.\n",
      "\n",
      "References\n",
      "----------\n",
      "\n",
      ".. [1] T. Hastie, R. Tibshirani and J. Friedman,\n",
      "       \"Elements of Statistical Learning\", Springer, 2009.\n",
      "\n",
      "\n"
     ]
    }
   ],
   "source": [
    "\"\"\"\n",
    "============================================================\n",
    "Single estimator versus bagging: bias-variance decomposition\n",
    "============================================================\n",
    "\n",
    "This example illustrates and compares the bias-variance decomposition of the\n",
    "expected mean squared error of a single estimator against a bagging ensemble.\n",
    "\n",
    "In regression, the expected mean squared error of an estimator can be\n",
    "decomposed in terms of bias, variance and noise. On average over datasets of\n",
    "the regression problem, the bias term measures the average amount by which the\n",
    "predictions of the estimator differ from the predictions of the best possible\n",
    "estimator for the problem (i.e., the Bayes model). The variance term measures\n",
    "the variability of the predictions of the estimator when fit over different\n",
    "instances LS of the problem. Finally, the noise measures the irreducible part\n",
    "of the error which is due the variability in the data.\n",
    "\n",
    "The upper left figure illustrates the predictions (in dark red) of a single\n",
    "decision tree trained over a random dataset LS (the blue dots) of a toy 1d\n",
    "regression problem. It also illustrates the predictions (in light red) of other\n",
    "single decision trees trained over other (and different) randomly drawn\n",
    "instances LS of the problem. Intuitively, the variance term here corresponds to\n",
    "the width of the beam of predictions (in light red) of the individual\n",
    "estimators. The larger the variance, the more sensitive are the predictions for\n",
    "`x` to small changes in the training set. The bias term corresponds to the\n",
    "difference between the average prediction of the estimator (in cyan) and the\n",
    "best possible model (in dark blue). On this problem, we can thus observe that\n",
    "the bias is quite low (both the cyan and the blue curves are close to each\n",
    "other) while the variance is large (the red beam is rather wide).\n",
    "\n",
    "The lower left figure plots the pointwise decomposition of the expected mean\n",
    "squared error of a single decision tree. It confirms that the bias term (in\n",
    "blue) is low while the variance is large (in green). It also illustrates the\n",
    "noise part of the error which, as expected, appears to be constant and around\n",
    "`0.01`.\n",
    "\n",
    "The right figures correspond to the same plots but using instead a bagging\n",
    "ensemble of decision trees. In both figures, we can observe that the bias term\n",
    "is larger than in the previous case. In the upper right figure, the difference\n",
    "between the average prediction (in cyan) and the best possible model is larger\n",
    "(e.g., notice the offset around `x=2`). In the lower right figure, the bias\n",
    "curve is also slightly higher than in the lower left figure. In terms of\n",
    "variance however, the beam of predictions is narrower, which suggests that the\n",
    "variance is lower. Indeed, as the lower right figure confirms, the variance\n",
    "term (in green) is lower than for single decision trees. Overall, the bias-\n",
    "variance decomposition is therefore no longer the same. The tradeoff is better\n",
    "for bagging: averaging several decision trees fit on bootstrap copies of the\n",
    "dataset slightly increases the bias term but allows for a larger reduction of\n",
    "the variance, which results in a lower overall mean squared error (compare the\n",
    "red curves int the lower figures). The script output also confirms this\n",
    "intuition. The total error of the bagging ensemble is lower than the total\n",
    "error of a single decision tree, and this difference indeed mainly stems from a\n",
    "reduced variance.\n",
    "\n",
    "For further details on bias-variance decomposition, see section 7.3 of [1]_.\n",
    "\n",
    "References\n",
    "----------\n",
    "\n",
    ".. [1] T. Hastie, R. Tibshirani and J. Friedman,\n",
    "       \"Elements of Statistical Learning\", Springer, 2009.\n",
    "\n",
    "\"\"\"\n",
    "print(__doc__)\n",
    "\n",
    "# Author: Gilles Louppe <g.louppe@gmail.com>\n",
    "# License: BSD 3 clause\n",
    "\n",
    "import numpy as np\n",
    "import matplotlib.pyplot as plt\n",
    "\n",
    "from sklearn.ensemble import BaggingRegressor\n",
    "from sklearn.tree import DecisionTreeRegressor\n"
   ]
  },
  {
   "cell_type": "code",
   "execution_count": 2,
   "metadata": {
    "collapsed": true
   },
   "outputs": [],
   "source": [
    "# Settings\n",
    "n_repeat = 50       # Number of iterations for computing expectations\n",
    "n_train = 50        # Size of the training set\n",
    "n_test = 1000       # Size of the test set\n",
    "noise = 0.1         # Standard deviation of the noise\n",
    "np.random.seed(0)\n"
   ]
  },
  {
   "cell_type": "code",
   "execution_count": 3,
   "metadata": {
    "collapsed": true
   },
   "outputs": [],
   "source": [
    "# Change this for exploring the bias-variance decomposition of other\n",
    "# estimators. This should work well for estimators with high variance (e.g.,\n",
    "# decision trees or KNN), but poorly for estimators with low variance (e.g.,\n",
    "# linear models).\n",
    "estimators = [(\"Tree\", DecisionTreeRegressor()),\n",
    "              (\"Bagging(Tree)\", BaggingRegressor(DecisionTreeRegressor()))]\n",
    "\n",
    "n_estimators = len(estimators)\n"
   ]
  },
  {
   "cell_type": "code",
   "execution_count": 4,
   "metadata": {
    "collapsed": true
   },
   "outputs": [],
   "source": [
    "# Generate data\n",
    "def f(x):\n",
    "    x = x.ravel()\n",
    "\n",
    "    return np.exp(-x ** 2) + 1.5 * np.exp(-(x - 2) ** 2)\n"
   ]
  },
  {
   "cell_type": "code",
   "execution_count": 5,
   "metadata": {
    "collapsed": true
   },
   "outputs": [],
   "source": [
    "def generate(n_samples, noise, n_repeat=1):\n",
    "    X = np.random.rand(n_samples) * 10 - 5\n",
    "    X = np.sort(X)\n",
    "\n",
    "    if n_repeat == 1:\n",
    "        y = f(X) + np.random.normal(0.0, noise, n_samples)\n",
    "    else:\n",
    "        y = np.zeros((n_samples, n_repeat))\n",
    "\n",
    "        for i in range(n_repeat):\n",
    "            y[:, i] = f(X) + np.random.normal(0.0, noise, n_samples)\n",
    "\n",
    "    X = X.reshape((n_samples, 1))\n",
    "\n",
    "    return X, y\n"
   ]
  },
  {
   "cell_type": "code",
   "execution_count": 6,
   "metadata": {
    "collapsed": true
   },
   "outputs": [],
   "source": [
    "\n",
    "X_train = []\n",
    "y_train = []\n",
    "\n",
    "for i in range(n_repeat):\n",
    "    X, y = generate(n_samples=n_train, noise=noise)\n",
    "    X_train.append(X)\n",
    "    y_train.append(y)\n",
    "\n",
    "X_test, y_test = generate(n_samples=n_test, noise=noise, n_repeat=n_repeat)\n"
   ]
  },
  {
   "cell_type": "code",
   "execution_count": 7,
   "metadata": {
    "collapsed": false
   },
   "outputs": [
    {
     "name": "stdout",
     "output_type": "stream",
     "text": [
      "Tree: 0.0255 (error) = 0.0003 (bias^2)  + 0.0152 (var) + 0.0098 (noise)\n",
      "Bagging(Tree): 0.0196 (error) = 0.0004 (bias^2)  + 0.0092 (var) + 0.0098 (noise)\n"
     ]
    }
   ],
   "source": [
    "# Loop over estimators to compare\n",
    "for n, (name, estimator) in enumerate(estimators):\n",
    "    # Compute predictions\n",
    "    y_predict = np.zeros((n_test, n_repeat))\n",
    "\n",
    "    for i in range(n_repeat):\n",
    "        estimator.fit(X_train[i], y_train[i])\n",
    "        y_predict[:, i] = estimator.predict(X_test)\n",
    "\n",
    "    # Bias^2 + Variance + Noise decomposition of the mean squared error\n",
    "    y_error = np.zeros(n_test)\n",
    "\n",
    "    for i in range(n_repeat):\n",
    "        for j in range(n_repeat):\n",
    "            y_error += (y_test[:, j] - y_predict[:, i]) ** 2\n",
    "\n",
    "    y_error /= (n_repeat * n_repeat)\n",
    "\n",
    "    y_noise = np.var(y_test, axis=1)\n",
    "    y_bias = (f(X_test) - np.mean(y_predict, axis=1)) ** 2\n",
    "    y_var = np.var(y_predict, axis=1)\n",
    "\n",
    "    print(\"{0}: {1:.4f} (error) = {2:.4f} (bias^2) \"\n",
    "          \" + {3:.4f} (var) + {4:.4f} (noise)\".format(name,\n",
    "                                                      np.mean(y_error),\n",
    "                                                      np.mean(y_bias),\n",
    "                                                      np.mean(y_var),\n",
    "                                                      np.mean(y_noise)))\n",
    "\n",
    "    #"
   ]
  },
  {
   "cell_type": "code",
   "execution_count": 9,
   "metadata": {
    "collapsed": false
   },
   "outputs": [
    {
     "data": {
      "text/plain": [
       "[<matplotlib.lines.Line2D at 0x98768d0>]"
      ]
     },
     "execution_count": 9,
     "metadata": {},
     "output_type": "execute_result"
    }
   ],
   "source": [
    "# Plot figures\n",
    "plt.subplot(2, n_estimators, n + 1)\n",
    "plt.plot(X_test, f(X_test), \"b\", label=\"$f(x)$\")\n",
    "plt.plot(X_train[0], y_train[0], \".b\", label=\"LS ~ $y = f(x)+noise$\")\n",
    "\n",
    "    "
   ]
  },
  {
   "cell_type": "code",
   "execution_count": 11,
   "metadata": {
    "collapsed": false
   },
   "outputs": [
    {
     "data": {
      "image/png": "[encoded data removed]",
      "text/plain": [
       "<matplotlib.figure.Figure at 0x958a3c8>"
      ]
     },
     "metadata": {},
     "output_type": "display_data"
    }
   ],
   "source": [
    "for i in range(n_repeat):\n",
    "    if i == 0:\n",
    "        plt.plot(X_test, y_predict[:, i], \"r\", label=\"$\\^y(x)$\")\n",
    "    else:\n",
    "        plt.plot(X_test, y_predict[:, i], \"r\", alpha=0.05)\n",
    "\n",
    "plt.plot(X_test, np.mean(y_predict, axis=1), \"c\",\n",
    "        label=\"$\\mathbb{E}_{LS} \\^y(x)$\")\n",
    "\n",
    "plt.xlim([-5, 5])\n",
    "plt.title(name)\n",
    "\n",
    "if n == 0:\n",
    "    plt.legend(loc=\"upper left\", prop={\"size\": 11})\n",
    "plt.subplot(2, n_estimators, n_estimators + n + 1)\n",
    "plt.plot(X_test, y_error, \"r\", label=\"$error(x)$\")\n",
    "plt.plot(X_test, y_bias, \"b\", label=\"$bias^2(x)$\"),\n",
    "plt.plot(X_test, y_var, \"g\", label=\"$variance(x)$\"),\n",
    "plt.plot(X_test, y_noise, \"c\", label=\"$noise(x)$\")\n",
    "\n",
    "plt.xlim([-5, 5])\n",
    "plt.ylim([0, 0.1])\n",
    "\n",
    "if n == 0:\n",
    "    plt.legend(loc=\"upper left\", prop={\"size\": 11})\n",
    "\n",
    "plt.show()"
   ]
  },
  {
   "cell_type": "code",
   "execution_count": null,
   "metadata": {
    "collapsed": true
   },
   "outputs": [],
   "source": []
  },
  {
   "cell_type": "code",
   "execution_count": null,
   "metadata": {
    "collapsed": true
   },
   "outputs": [],
   "source": []
  }
 ],
 "metadata": {
  "kernelspec": {
   "display_name": "Python 2",
   "language": "python",
   "name": "python2"
  },
  "language_info": {
   "codemirror_mode": {
    "name": "ipython",
    "version": 2
   },
   "file_extension": ".py",
   "mimetype": "text/x-python",
   "name": "python",
   "nbconvert_exporter": "python",
   "pygments_lexer": "ipython2",
   "version": "2.7.13"
  }
 },
 "nbformat": 4,
 "nbformat_minor": 2
}
