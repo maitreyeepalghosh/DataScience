{
 "cells": [
  {
   "cell_type": "code",
   "execution_count": 3,
   "metadata": {
    "collapsed": false,
    "scrolled": true
   },
   "outputs": [
    {
     "name": "stdout",
     "output_type": "stream",
     "text": [
      "\n",
      "=====================================\n",
      "Multi-class AdaBoosted Decision Trees\n",
      "=====================================\n",
      "\n",
      "This example reproduces Figure 1 of Zhu et al [1] and shows how boosting can\n",
      "improve prediction accuracy on a multi-class problem. The classification\n",
      "dataset is constructed by taking a ten-dimensional standard normal distribution\n",
      "and defining three classes separated by nested concentric ten-dimensional\n",
      "spheres such that roughly equal numbers of samples are in each class (quantiles\n",
      "of the :math:`\\chi^2` distribution).\n",
      "\n",
      "The performance of the SAMME and SAMME.R [1] algorithms are compared. SAMME.R\n",
      "uses the probability estimates to update the additive model, while SAMME  uses\n",
      "the classifications only. As the example illustrates, the SAMME.R algorithm\n",
      "typically converges faster than SAMME, achieving a lower test error with fewer\n",
      "boosting iterations. The error of each algorithm on the test set after each\n",
      "boosting iteration is shown on the left, the classification error on the test\n",
      "set of each tree is shown in the middle, and the boost weight of each tree is\n",
      "shown on the right. All trees have a weight of one in the SAMME.R algorithm and\n",
      "therefore are not shown.\n",
      "\n",
      ".. [1] J. Zhu, H. Zou, S. Rosset, T. Hastie, \"Multi-class AdaBoost\", 2009.\n",
      "\n",
      "\n"
     ]
    }
   ],
   "source": [
    "\"\"\"\n",
    "=====================================\n",
    "Multi-class AdaBoosted Decision Trees\n",
    "=====================================\n",
    "\n",
    "This example reproduces Figure 1 of Zhu et al [1] and shows how boosting can\n",
    "improve prediction accuracy on a multi-class problem. The classification\n",
    "dataset is constructed by taking a ten-dimensional standard normal distribution\n",
    "and defining three classes separated by nested concentric ten-dimensional\n",
    "spheres such that roughly equal numbers of samples are in each class (quantiles\n",
    "of the :math:`\\chi^2` distribution).\n",
    "\n",
    "The performance of the SAMME and SAMME.R [1] algorithms are compared. SAMME.R\n",
    "uses the probability estimates to update the additive model, while SAMME  uses\n",
    "the classifications only. As the example illustrates, the SAMME.R algorithm\n",
    "typically converges faster than SAMME, achieving a lower test error with fewer\n",
    "boosting iterations. The error of each algorithm on the test set after each\n",
    "boosting iteration is shown on the left, the classification error on the test\n",
    "set of each tree is shown in the middle, and the boost weight of each tree is\n",
    "shown on the right. All trees have a weight of one in the SAMME.R algorithm and\n",
    "therefore are not shown.\n",
    "\n",
    ".. [1] J. Zhu, H. Zou, S. Rosset, T. Hastie, \"Multi-class AdaBoost\", 2009.\n",
    "\n",
    "\"\"\"\n",
    "print(__doc__)\n",
    "\n",
    "# Author: Noel Dawe <noel.dawe@gmail.com>\n",
    "#\n",
    "# License: BSD 3 clause\n",
    "\n",
    "from sklearn.externals.six.moves import zip\n",
    "\n",
    "import matplotlib.pyplot as plt\n",
    "\n",
    "from sklearn.datasets import make_gaussian_quantiles\n",
    "from sklearn.ensemble import AdaBoostClassifier\n",
    "from sklearn.metrics import accuracy_score\n",
    "from sklearn.tree import DecisionTreeClassifier\n"
   ]
  },
  {
   "cell_type": "code",
   "execution_count": 2,
   "metadata": {
    "collapsed": true
   },
   "outputs": [],
   "source": [
    "\n",
    "X, y = make_gaussian_quantiles(n_samples=13000, n_features=10,\n",
    "                               n_classes=3, random_state=1)\n",
    "\n"
   ]
  },
  {
   "cell_type": "code",
   "execution_count": 4,
   "metadata": {
    "collapsed": true
   },
   "outputs": [],
   "source": [
    "n_split = 3000\n",
    "\n",
    "X_train, X_test = X[:n_split], X[n_split:]\n",
    "y_train, y_test = y[:n_split], y[n_split:]\n"
   ]
  },
  {
   "cell_type": "code",
   "execution_count": 5,
   "metadata": {
    "collapsed": true
   },
   "outputs": [],
   "source": [
    "\n",
    "bdt_real = AdaBoostClassifier(\n",
    "    DecisionTreeClassifier(max_depth=2),\n",
    "    n_estimators=600,\n",
    "    learning_rate=1)\n"
   ]
  },
  {
   "cell_type": "code",
   "execution_count": 6,
   "metadata": {
    "collapsed": true
   },
   "outputs": [],
   "source": [
    "bdt_discrete = AdaBoostClassifier(\n",
    "    DecisionTreeClassifier(max_depth=2),\n",
    "    n_estimators=600,\n",
    "    learning_rate=1.5,\n",
    "    algorithm=\"SAMME\")\n"
   ]
  },
  {
   "cell_type": "code",
   "execution_count": 7,
   "metadata": {
    "collapsed": false
   },
   "outputs": [
    {
     "data": {
      "text/plain": [
       "AdaBoostClassifier(algorithm='SAMME',\n",
       "          base_estimator=DecisionTreeClassifier(class_weight=None, criterion='gini', max_depth=2,\n",
       "            max_features=None, max_leaf_nodes=None,\n",
       "            min_impurity_split=1e-07, min_samples_leaf=1,\n",
       "            min_samples_split=2, min_weight_fraction_leaf=0.0,\n",
       "            presort=False, random_state=None, splitter='best'),\n",
       "          learning_rate=1.5, n_estimators=600, random_state=None)"
      ]
     },
     "execution_count": 7,
     "metadata": {},
     "output_type": "execute_result"
    }
   ],
   "source": [
    "bdt_real.fit(X_train, y_train)\n",
    "bdt_discrete.fit(X_train, y_train)\n"
   ]
  },
  {
   "cell_type": "code",
   "execution_count": 8,
   "metadata": {
    "collapsed": true
   },
   "outputs": [],
   "source": [
    "real_test_errors = []\n",
    "discrete_test_errors = []\n",
    "\n",
    "for real_test_predict, discrete_train_predict in zip(\n",
    "        bdt_real.staged_predict(X_test), bdt_discrete.staged_predict(X_test)):\n",
    "    real_test_errors.append(\n",
    "        1. - accuracy_score(real_test_predict, y_test))\n",
    "    discrete_test_errors.append(\n",
    "        1. - accuracy_score(discrete_train_predict, y_test))\n"
   ]
  },
  {
   "cell_type": "code",
   "execution_count": 9,
   "metadata": {
    "collapsed": true
   },
   "outputs": [],
   "source": [
    "n_trees_discrete = len(bdt_discrete)\n",
    "n_trees_real = len(bdt_real)\n"
   ]
  },
  {
   "cell_type": "code",
   "execution_count": 10,
   "metadata": {
    "collapsed": true
   },
   "outputs": [],
   "source": [
    "\n",
    "# Boosting might terminate early, but the following arrays are always\n",
    "# n_estimators long. We crop them to the actual number of trees here:\n",
    "discrete_estimator_errors = bdt_discrete.estimator_errors_[:n_trees_discrete]\n",
    "real_estimator_errors = bdt_real.estimator_errors_[:n_trees_real]\n",
    "discrete_estimator_weights = bdt_discrete.estimator_weights_[:n_trees_discrete]\n"
   ]
  },
  {
   "cell_type": "code",
   "execution_count": 11,
   "metadata": {
    "collapsed": false
   },
   "outputs": [
    {
     "data": {
      "text/plain": [
       "<matplotlib.text.Text at 0x9c80518>"
      ]
     },
     "execution_count": 11,
     "metadata": {},
     "output_type": "execute_result"
    }
   ],
   "source": [
    "\n",
    "plt.figure(figsize=(15, 5))\n",
    "\n",
    "plt.subplot(131)\n",
    "plt.plot(range(1, n_trees_discrete + 1),\n",
    "         discrete_test_errors, c='black', label='SAMME')\n",
    "plt.plot(range(1, n_trees_real + 1),\n",
    "         real_test_errors, c='black',\n",
    "         linestyle='dashed', label='SAMME.R')\n",
    "plt.legend()\n",
    "plt.ylim(0.18, 0.62)\n",
    "plt.ylabel('Test Error')\n",
    "plt.xlabel('Number of Trees')\n"
   ]
  },
  {
   "cell_type": "code",
   "execution_count": 12,
   "metadata": {
    "collapsed": false
   },
   "outputs": [
    {
     "data": {
      "text/plain": [
       "(-20, 620)"
      ]
     },
     "execution_count": 12,
     "metadata": {},
     "output_type": "execute_result"
    }
   ],
   "source": [
    "\n",
    "plt.subplot(132)\n",
    "plt.plot(range(1, n_trees_discrete + 1), discrete_estimator_errors,\n",
    "         \"b\", label='SAMME', alpha=.5)\n",
    "plt.plot(range(1, n_trees_real + 1), real_estimator_errors,\n",
    "         \"r\", label='SAMME.R', alpha=.5)\n",
    "plt.legend()\n",
    "plt.ylabel('Error')\n",
    "plt.xlabel('Number of Trees')\n",
    "plt.ylim((.2,\n",
    "         max(real_estimator_errors.max(),\n",
    "             discrete_estimator_errors.max()) * 1.2))\n",
    "plt.xlim((-20, len(bdt_discrete) + 20))\n",
    "\n",
    "plt.subplot(133)\n",
    "plt.plot(range(1, n_trees_discrete + 1), discrete_estimator_weights,\n",
    "         \"b\", label='SAMME')\n",
    "plt.legend()\n",
    "plt.ylabel('Weight')\n",
    "plt.xlabel('Number of Trees')\n",
    "plt.ylim((0, discrete_estimator_weights.max() * 1.2))\n",
    "plt.xlim((-20, n_trees_discrete + 20))\n"
   ]
  },
  {
   "cell_type": "code",
   "execution_count": 13,
   "metadata": {
    "collapsed": false
   },
   "outputs": [
    {
     "data": {
      "image/png": "[encoded data removed]",
      "text/plain": [
       "<matplotlib.figure.Figure at 0x9c67358>"
      ]
     },
     "metadata": {},
     "output_type": "display_data"
    }
   ],
   "source": [
    "\n",
    "# prevent overlapping y-axis labels\n",
    "plt.subplots_adjust(wspace=0.25)\n",
    "plt.show()\n"
   ]
  },
  {
   "cell_type": "code",
   "execution_count": null,
   "metadata": {
    "collapsed": true
   },
   "outputs": [],
   "source": []
  }
 ],
 "metadata": {
  "kernelspec": {
   "display_name": "Python 2",
   "language": "python",
   "name": "python2"
  },
  "language_info": {
   "codemirror_mode": {
    "name": "ipython",
    "version": 2
   },
   "file_extension": ".py",
   "mimetype": "text/x-python",
   "name": "python",
   "nbconvert_exporter": "python",
   "pygments_lexer": "ipython2",
   "version": "2.7.13"
  }
 },
 "nbformat": 4,
 "nbformat_minor": 2
}
